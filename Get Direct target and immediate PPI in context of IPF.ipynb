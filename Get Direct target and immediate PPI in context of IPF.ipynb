{
 "cells": [
  {
   "cell_type": "code",
   "execution_count": 1,
   "metadata": {
    "collapsed": true
   },
   "outputs": [],
   "source": [
    "'''\n",
    "Get first hop PPI targets of known targets of drug candidates and intersect them with IPF DEGs.\n",
    "Run enrichment on these selected genes to look for potential drug mechanisms\n",
    "'''\n",
    "import pandas as pd\n",
    "import numpy as np\n",
    "import os\n",
    "import matplotlib.pyplot as plt\n",
    "import requests\n",
    "from io import StringIO"
   ]
  },
  {
   "cell_type": "code",
   "execution_count": 7,
   "metadata": {
    "collapsed": true
   },
   "outputs": [],
   "source": [
    "# read all necessary data including gene id table, PPI table from Toppgene, IPF deg and drug targets\n",
    "try:\n",
    "    path = 'E:/Box Sync/Jake-Jegga/IPF Drug Discovery'\n",
    "    if path not in os.getcwd():  \n",
    "        os.chdir(path)\n",
    "except:\n",
    "    path = 'M:/Box/Jake-Jegga/IPF Drug Discovery'\n",
    "    if path not in os.getcwd():  \n",
    "        os.chdir(path)\n",
    "ipf_deg = pd.read_excel('Intermediate results/Deg lists included in paper/IPF FC06 pval005 protein coding DEG network.xlsx',index_col=0)\n",
    "PPI_data = StringIO(requests.post(\"https://toppgene.cchmc.org/table.jsp\", data={\"category\":'Interaction'}).text)\n",
    "ppi = pd.read_csv(PPI_data,sep='\\t',index_col=0)\n",
    "geneidtable = pd.read_csv('../../Ontology_Info/Master Gene Conversion Table.csv',index_col=0,dtype = str)\n",
    "dc_targets = pd.read_excel('./Results/Combined report from 6 IPF mocroarry queries.xlsx',index_col=0,sheetname=0)\n",
    "# preprocessing tables\n",
    "geneidtable = geneidtable.h_entrez_id.dropna().drop_duplicates()\n",
    "dc_targets = dc_targets.merge(pd.DataFrame(geneidtable),left_on='Target',right_index=True,how='inner')\n",
    "# reformat ppi table \n",
    "ppi['source'] = ppi.concept_name.apply(lambda x: x.split(' ')[0])\n",
    "ppi = ppi.merge(pd.DataFrame(geneidtable),left_on='source',right_index=True,how = 'left')\n",
    "ppi.set_index('h_entrez_id',inplace=True)\n",
    "ppi = ppi.merge(pd.DataFrame(geneidtable),left_on='symbol',right_index=True,how = 'left')\n",
    "ppi.drop_duplicates(['source','h_entrez_id'],inplace = True)\n",
    "ppi = ppi[ppi.symbol!=ppi.source]\n",
    "# get conserved IPF degs\n",
    "ipf_deg['score'] = ipf_deg.iloc[:,2]-ipf_deg.iloc[:,3]\n",
    "ipf_cm = ipf_deg[abs(ipf_deg.score)>=2]\n",
    "ipf_cm_deg = geneidtable.loc[ipf_cm.index.unique()].dropna().values\n",
    "# get new clue repurpose data\n",
    "# The NEW data is very different from our old one!\n",
    "drug_candidates = dc_targets.index.tolist() + ['nintedanib','pirfenidone']\n",
    "# drug_candidates = pd.read_clipboard(index_col=0).index.tolist()+['nintedanib','pirfenidone']\n",
    "clue = pd.read_table('../../Lincs_data/All 6402 cmpd metadata from clue.txt',index_col=0)\n",
    "clue_targets = clue.Target.str.split(', ',expand=True).stack().reset_index()\n",
    "clue_targets = clue_targets.set_index('Name').iloc[:,1]\n",
    "clue_targets = clue_targets.loc[drug_candidates].dropna()\n",
    "clue_targets = pd.merge(pd.DataFrame(clue_targets),pd.DataFrame(geneidtable),left_on=0,right_index=True,how='inner')\n",
    "clue_targets = clue_targets.reset_index().drop_duplicates().set_index('Name')\n",
    "clue_targets.columns = ['Target','h_entrez_id']"
   ]
  },
  {
   "cell_type": "code",
   "execution_count": 9,
   "metadata": {
    "collapsed": true
   },
   "outputs": [],
   "source": [
    "dc_targets = clue_targets.copy()\n",
    "TC_target_network = pd.DataFrame()\n",
    "for cmpd in dc_targets.index.unique():\n",
    "    _targets = dc_targets.loc[cmpd,'h_entrez_id']\n",
    "    if isinstance(_targets,str):\n",
    "        _targets = [_targets]\n",
    "    else:\n",
    "        _targets = _targets.tolist()\n",
    "    _targets_ppi = ppi.loc[_targets,'h_entrez_id'].dropna().values\n",
    "    _total_interactants = len(_targets_ppi)-1\n",
    "    _targets_ppi = [x for x in _targets_ppi if x in ipf_cm_deg]\n",
    "    _ipf_deg_interactants = len([x for x in _targets_ppi if x not in _targets])\n",
    "    _targets_ppi += _targets\n",
    "    _targets_ppi_symbol = geneidtable[geneidtable.isin(_targets_ppi)].index.values\n",
    "    _targets_symbol = dc_targets.loc[cmpd,'Target']\n",
    "    _tmp_df = pd.DataFrame(cmpd,index = _targets_ppi_symbol,columns=['Compound'])\n",
    "    _tmp_df.loc[_targets_symbol,'Direct_target'] = 'Yes'\n",
    "    _tmp_df = _tmp_df.join(ipf_cm.score,how = 'left').reset_index()\n",
    "    _tmp_df.drop_duplicates(inplace=True)\n",
    "    TC_target_network = TC_target_network.append(_tmp_df)\n",
    "TC_target_network.set_index('index',inplace=True)\n",
    "direct_tar = TC_target_network.Direct_target.dropna().index.unique()\n",
    "dt_ppi = ppi[ppi.source.isin(direct_tar)]\n",
    "dt_ppi_total_counts = dt_ppi.source.value_counts()\n",
    "dt_ppi_ipf = dt_ppi[dt_ppi.symbol.isin(geneidtable[geneidtable.isin(ipf_cm_deg)].index.unique())]\n",
    "dt_ppi_ipf_counts = dt_ppi_ipf.source.value_counts()\n",
    "dt_ppi_ratio = pd.DataFrame(dt_ppi_ipf_counts/dt_ppi_total_counts)\n",
    "dt_ppi_ratio.columns = ['ratio_ipf_genes']\n",
    "TC_target_network = TC_target_network.merge(dt_ppi_ratio,left_index=True,right_index=True,how='left')\n",
    "\n",
    "all_genes = TC_target_network.index.unique()\n",
    "valid_ppi = ppi.set_index('source').loc[all_genes,'symbol']\n",
    "valid_ppi = valid_ppi[valid_ppi.index!=valid_ppi.values]\n",
    "valid_ppi = valid_ppi[valid_ppi.isin(all_genes)]\n",
    "valid_ppi.name = 'Compound'\n",
    "TC_target_network = TC_target_network.append(pd.DataFrame(valid_ppi))\n",
    "TC_target_network.to_csv('Drug Target+PPI network.csv')"
   ]
  }
 ],
 "metadata": {
  "kernelspec": {
   "display_name": "Python 3",
   "language": "python",
   "name": "python3"
  },
  "language_info": {
   "codemirror_mode": {
    "name": "ipython",
    "version": 3
   },
   "file_extension": ".py",
   "mimetype": "text/x-python",
   "name": "python",
   "nbconvert_exporter": "python",
   "pygments_lexer": "ipython3",
   "version": "3.6.1"
  }
 },
 "nbformat": 4,
 "nbformat_minor": 2
}
