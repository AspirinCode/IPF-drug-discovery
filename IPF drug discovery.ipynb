{
 "cells": [
  {
   "cell_type": "code",
   "execution_count": null,
   "metadata": {},
   "outputs": [],
   "source": [
    "import pandas as pd\n",
    "import os\n",
    "import numpy as np\n",
    "import json\n",
    "from statsmodels.sandbox.stats.multicomp import multipletests as mt"
   ]
  },
  {
   "cell_type": "code",
   "execution_count": null,
   "metadata": {
    "collapsed": true
   },
   "outputs": [],
   "source": [
    "# get local dropbox folder path since all the data is in my dropbox\n",
    "dropbox_path_file = ''.join(['c:/Users/',os.getlogin(),'/AppData/Local/Dropbox/info.json'])\n",
    "try:\n",
    "    with open(dropbox_path_file) as data_file:    \n",
    "        data = json.load(data_file)\n",
    "except:\n",
    "    with open('C:/Users/Surbhi/AppData/Local/Dropbox/info.json') as data_file:    \n",
    "        data = json.load(data_file)\n",
    "dropbox_path = data['personal']['path']\n",
    "os.chdir(dropbox_path)\n",
    "Lincs_geneinfo = pd.read_table('Ontology_Info//GSE92742_Broad_LINCS_gene_info.txt',index_col = 0)\n",
    "Geneidtable = pd.read_table('Ontology_Info/HGNC protein-coding_gene.txt',dtype = str,index_col = 0).symbol.tolist()"
   ]
  },
  {
   "cell_type": "code",
   "execution_count": null,
   "metadata": {
    "collapsed": true
   },
   "outputs": [],
   "source": [
    "# compiling clue query signatures from DE genes\n",
    "os.chdir('E:/Box Sync/Jake-Jegga/IPF Drug Discovery/Datasets')\n",
    "# processing differentially expressed genes from R limma output\n",
    "fc_t = 0.6\n",
    "files = os.listdir()\n",
    "deg_files = [x for x in files if ('report.txt' in x) & ('noFDR' not in x) & ('GSE32537' not in x)]\n",
    "deg = pd.DataFrame(index = list(range(20000)))\n",
    "for fn in deg_files:    \n",
    "    gse_id = fn.split(' ')[0]\n",
    "    df = pd.read_table(fn,index_col = 0)\n",
    "    up_genes = list(set(df[df.ix[:,0]>=fc_t].sort_values(df.columns[0],ascending = False).index.dropna()))\n",
    "    dn_genes = list(set(df[df.ix[:,0]<=-fc_t].sort_values(df.columns[0]).index.dropna()))\n",
    "    for reg,gl in zip(['_Up','_Dn'],[up_genes,dn_genes]):\n",
    "        deg.ix[list(range(len(gl))),gse_id+reg] = gl\n",
    "deg = deg.dropna(how='all')\n",
    "deg.to_excel('../Intermediate results/Deg lists included in paper/All FC06 pval005 protein coding DEG.xlsx')\n",
    "# making network ready file for visualizing in cytoscape\n",
    "gene_statistics = deg.stack()\n",
    "gene_statistics = gene_statistics.reset_index()\n",
    "network = pd.DataFrame(gene_statistics.set_index(0)['level_1'])\n",
    "gene_statistics['reg'] = [x.split('_')[1] for x in gene_statistics.level_1]\n",
    "gene_statistics = gene_statistics.groupby(0).reg.value_counts()\n",
    "up_reg_genes = gene_statistics.loc[gene_statistics.index.get_level_values('reg') == 'Up'].unstack()\n",
    "dn_reg_genes = gene_statistics.loc[gene_statistics.index.get_level_values('reg') == 'Dn'].unstack()\n",
    "gene_statistics = pd.concat([up_reg_genes,dn_reg_genes],axis =1).fillna(0)\n",
    "gene_statistics.columns = ['# of up_reg_datasets','# of dn_reg_datasets']\n",
    "# gene_statistics.to_excel('All FC1 pval005 protein coding DEG summary statistics.xlsx')\n",
    "network.columns = ['dataset']\n",
    "network['regulation'] = [x.split('_')[1] for x in network.dataset]\n",
    "network = network.join(gene_statistics,how='outer')\n",
    "network['# of nondeg datasets'] = len(deg_files) - network.ix[:,2] - network.ix[:,3]\n",
    "network.to_excel('../Intermediate results/Deg lists included in paper/All FC06 pval005 protein coding DEG network.xlsx')\n",
    "# make clue query file\n",
    "deg = deg.apply(lambda x: [x for x in x.values if x in Lincs_geneinfo.ix[:,0].values][:150],axis=0)\n",
    "clue_query = pd.DataFrame(index = list(range(150)),columns=deg.index)\n",
    "for i in deg.index:\n",
    "    clue_query.iloc[:len(deg[i])].loc[:,i] = deg[i]\n",
    "clue_query.to_excel('../Intermediate results/Clue query/Clue_query FC06.xlsx')"
   ]
  },
  {
   "cell_type": "code",
   "execution_count": null,
   "metadata": {},
   "outputs": [],
   "source": [
    "# calculate significance of disease-drug connectivity score by permutation\n",
    "os.chdir('E:/Box Sync/Jake-jegga/IPF Drug Discovery/Intermediate results/Clue query')\n",
    "fn = 'Combined report from 6 IPF mocroarry queries.gct'\n",
    "clue = pd.read_table(fn,index_col=0)\n",
    "clue.set_index('name',inplace=True)\n",
    "clue = clue.iloc[:,5:]\n",
    "clue = clue[[x for x in clue.columns if 'summary' not in x]]\n",
    "cmpds = clue_report.index\n",
    "connected = (clue>=90).sum(axis = 1).groupby(clue.index).max()\n",
    "anti_connected = (clue<=-90).sum(axis = 1).groupby(clue.index).max()\n",
    "clue_report = (connected-anti_connected)[cmpds]\n",
    "i=0\n",
    "pvalue_upper = pd.Series(0,index = cmpds)\n",
    "while i<1000000:\n",
    "    np.random.shuffle(clue.index.values)\n",
    "    connected = (clue>=90).sum(axis = 1).groupby(clue.index).max()\n",
    "    anti_connected = (clue<=-90).sum(axis = 1).groupby(clue.index).max()\n",
    "    report = (connected-anti_connected)[cmpds]\n",
    "    pvalue_upper += clue_report<=report\n",
    "    if i%1000 == 0:\n",
    "        print('Iteration {}'.format(i))\n",
    "    i+=1\n",
    "pval = (pvalue_upper/1000000).sort_values()\n",
    "pval = pval[pval<=0.05]"
   ]
  }
 ],
 "metadata": {
  "kernelspec": {
   "display_name": "Python 3",
   "language": "python",
   "name": "python3"
  },
  "language_info": {
   "codemirror_mode": {
    "name": "ipython",
    "version": 3
   },
   "file_extension": ".py",
   "mimetype": "text/x-python",
   "name": "python",
   "nbconvert_exporter": "python",
   "pygments_lexer": "ipython3",
   "version": "3.6.1"
  }
 },
 "nbformat": 4,
 "nbformat_minor": 2
}
