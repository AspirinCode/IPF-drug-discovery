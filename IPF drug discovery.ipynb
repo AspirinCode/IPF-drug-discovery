{
 "cells": [
  {
   "cell_type": "code",
   "execution_count": 1,
   "metadata": {
    "collapsed": true
   },
   "outputs": [],
   "source": [
    "import pandas as pd\n",
    "import os\n",
    "import numpy as np"
   ]
  },
  {
   "cell_type": "code",
   "execution_count": 5,
   "metadata": {
    "collapsed": true
   },
   "outputs": [],
   "source": [
    "geneinfo = pd.read_table('../GSE92742_Broad_LINCS_gene_info.txt',index_col = 0)\n",
    "# validgenes = validgenes = pd.read_table('../../../Ontology_Info/HGNC protein-coding_gene.txt',dtype = str,index_col = 0).symbol.tolist()\n",
    "validgenes = geneinfo.pr_gene_symbol.unique().tolist()\n",
    "files = os.listdir()\n",
    "deg = pd.DataFrame(index = list(range(len(validgenes))))\n",
    "fc = 1\n",
    "files = [x for x in files if ('GSE' in x or 'gse' in x)]\n",
    "for fn in files:    \n",
    "    if fn[-4:] == 'xlsx':\n",
    "        df = pd.read_excel(fn,index_col = 0)\n",
    "    else:\n",
    "        df = pd.read_table(fn,index_col = 0)\n",
    "    df = df.loc[[x for x in df.index if x in validgenes]]\n",
    "    dataset_id = fn.split('/')[-1].split(\"_\")[0]\n",
    "    deg_up = df[(df.logFC>=1)&(df.ix[:,'adj.P.Val']<=0.05)].sort_values('logFC',ascending = False).index.tolist()[:150]\n",
    "    deg_dn = df[(df.logFC<=-1)&(df.ix[:,'adj.P.Val']<=0.05)].sort_values('logFC').index.tolist()[:150]\n",
    "    deg.ix[list(range(len(deg_up))),dataset_id + '_up'] = sorted(deg_up)\n",
    "    deg.ix[list(range(len(deg_dn))),dataset_id + '_dn'] = sorted(deg_dn)\n",
    "deg = deg.dropna(how='all')\n",
    "deg.to_excel('Clue Query Top 150 genes.xlsx')\n",
    "# deg.to_excel('All FC1 pval005 protein coding DEG.xlsx')"
   ]
  },
  {
   "cell_type": "code",
   "execution_count": 4,
   "metadata": {
    "collapsed": true
   },
   "outputs": [],
   "source": [
    "gene_statistics = deg.stack()\n",
    "gene_statistics = gene_statistics.reset_index()\n",
    "network = pd.DataFrame(gene_statistics.set_index(0)['level_1'])\n",
    "gene_statistics['reg'] = [x.split('_')[1] for x in gene_statistics.level_1]\n",
    "gene_statistics = gene_statistics.groupby(0).reg.value_counts()\n",
    "up_reg_genes = gene_statistics.loc[gene_statistics.index.get_level_values('reg') == 'up'].unstack()\n",
    "dn_reg_genes = gene_statistics.loc[gene_statistics.index.get_level_values('reg') == 'dn'].unstack()\n",
    "gene_statistics = pd.concat([up_reg_genes,dn_reg_genes],axis =1).fillna(0)\n",
    "gene_statistics.columns = ['# of up_reg_datasets','# of dn_reg_datasets']\n",
    "# gene_statistics.to_excel('All FC1 pval005 protein coding DEG summary statistics.xlsx')\n",
    "network.columns = ['dataset']\n",
    "network['regulation'] = [x.split('_')[1] for x in network.dataset]\n",
    "network = network.join(gene_statistics,how='outer')\n",
    "network['# of nondeg datasets'] = len(files) - network.ix[:,2] - network.ix[:,3]\n",
    "network.to_excel('All FC1 pval005 protein coding DEG network.xlsx')"
   ]
  },
  {
   "cell_type": "code",
   "execution_count": 2,
   "metadata": {
    "collapsed": true
   },
   "outputs": [],
   "source": [
    "os.chdir('Intermediate results/Clue query')\n",
    "files = os.listdir()\n",
    "files  = [x for x in files if '150' in x]\n",
    "cmpdlist = []\n",
    "for fn in files:\n",
    "    clue_tmp = pd.read_table(fn,index_col = 4)\n",
    "    clue_tmp = clue_tmp[clue_tmp.Type =='cp']\n",
    "    clue_tmp.Score = 100*clue_tmp.Score/clue_tmp.Score.max()\n",
    "    cmpd_tmp = clue_tmp[clue_tmp.Score >= 90].index.tolist()\n",
    "    cmpdlist+=cmpd_tmp"
   ]
  },
  {
   "cell_type": "code",
   "execution_count": 43,
   "metadata": {
    "collapsed": true
   },
   "outputs": [],
   "source": [
    "# os.chdir('../../Results/')\n",
    "dn = pd.read_table('./LincDnEnrichmentIPF.gct',index_col = 0, skiprows=2)\n",
    "up = pd.read_table('./LincUpEnrichmentIPF.gct',index_col = 0, skiprows=2)\n",
    "col_2 = dn.columns[:2].tolist()\n",
    "col_rest_dn = [x+'_dn' for x in dn.columns[2:]]\n",
    "col_rest_up = [x+'_up' for x in up.columns[2:]]\n",
    "dn.columns = col_2+col_rest_dn\n",
    "up.columns = col_2+col_rest_up"
   ]
  }
 ],
 "metadata": {
  "kernelspec": {
   "display_name": "Python 3",
   "language": "python",
   "name": "python3"
  },
  "language_info": {
   "codemirror_mode": {
    "name": "ipython",
    "version": 3
   },
   "file_extension": ".py",
   "mimetype": "text/x-python",
   "name": "python",
   "nbconvert_exporter": "python",
   "pygments_lexer": "ipython3",
   "version": "3.6.1"
  }
 },
 "nbformat": 4,
 "nbformat_minor": 2
}
