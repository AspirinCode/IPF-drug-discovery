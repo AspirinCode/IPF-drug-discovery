{
 "cells": [
  {
   "cell_type": "code",
   "execution_count": null,
   "metadata": {
    "collapsed": true
   },
   "outputs": [],
   "source": [
    "import os\n",
    "import requests\n",
    "import pandas as pd\n",
    "import numpy as np\n",
    "import ftplib\n",
    "import json\n",
    "from ftplib import FTP\n",
    "import gzip\n",
    "from io import StringIO,BytesIO"
   ]
  },
  {
   "cell_type": "code",
   "execution_count": null,
   "metadata": {
    "collapsed": true,
    "scrolled": true
   },
   "outputs": [],
   "source": [
    "# get the json file with dropbox path info in Win10\n",
    "dropbox_path_file = ''.join(['c:/Users/',os.getlogin(),'/AppData/Local/Dropbox/info.json'])\n",
    "try:\n",
    "    with open(dropbox_path_file) as data_file:    \n",
    "        data = json.load(data_file)\n",
    "except:\n",
    "    with open('C:/Users/Surbhi/AppData/Local/Dropbox/info.json') as data_file:    \n",
    "        data = json.load(data_file)\n",
    "dropbox_path = data['personal']['path']\n",
    "os.chdir(dropbox_path)"
   ]
  },
  {
   "cell_type": "code",
   "execution_count": null,
   "metadata": {},
   "outputs": [],
   "source": [
    "# Gene Ontology download gene2go.gz from NCBI\n",
    "gene2go_url = 'ftp://ftp.ncbi.nlm.nih.gov/gene/DATA/gene2go.gz'\n",
    "ftp = FTP('ftp.ncbi.nlm.nih.gov')   # connect to host, default port\n",
    "ftp.login()               # user anonymous, passwd anonymous@\n",
    "ftp.cwd('./gene/DATA/') # move to target directory\n",
    "# download gene2go.gz and store it in ./ontology info folder.\n",
    "ftp.retrbinary('RETR gene2go.gz', open('./Ontology_Info/Gene2GO.gz', 'wb').write)\n",
    "print('Downloaded gene2go.gz')"
   ]
  },
  {
   "cell_type": "code",
   "execution_count": null,
   "metadata": {},
   "outputs": [],
   "source": [
    "# Pathways download bsid2info.gz and  biosystems_gene.gz and parse it leaving only human and mouse pathways\n",
    "bytesdata = BytesIO()\n",
    "def bytesdata_writer(fdata):\n",
    "    # fdata = gzip.GzipFile(fileobj=fdata)\n",
    "    bytesdata.write(fdata)\n",
    "ftp = ftplib.FTP('ftp.ncbi.nih.gov')\n",
    "ftp.login()\n",
    "ftp.cwd(\"/pub/biosystems/CURRENT\")\n",
    "ftp.retrbinary(\"RETR bsid2info.gz\",bytesdata_writer)\n",
    "bytesdata.seek(0)\n",
    "with gzip.open(bytesdata) as f:\n",
    "    bsid2info = f.read()\n",
    "bsid2info = bsid2info.decode('ascii','ignore')\n",
    "bsid2info = bsid2info.split('\\n')\n",
    "bsid2info = list(map(lambda x: x.split('\\t'), bsid2info))\n",
    "bsid2info = pd.DataFrame(bsid2info)\n",
    "bsid2info.columns = ['bsid','source','accession','pathway_name','type of biosystem',\n",
    "                'taxonomic scope of biosystem','NCBI taxid','description of biosystem']\n",
    "bsid2info = bsid2info[bsid2info['NCBI taxid'].isin(['9606','10090'])]\n",
    "print('Downloaded and processed bsid2info.gz')\n",
    "# download and parse biosystems_gene.gz\n",
    "bytesdata = BytesIO()\n",
    "ftp.retrbinary(\"RETR biosystems_gene.gz\",bytesdata_writer)\n",
    "bytesdata.seek(0)\n",
    "with gzip.open(bytesdata) as f:\n",
    "    bsid2gene = f.read()\n",
    "print('Downloaded biosystems_gene.gz')\n",
    "bsid2gene = bsid2gene.decode('ascii','ignore')\n",
    "bsid2gene = bsid2gene.split('\\n')\n",
    "bsid2gene = list(map(lambda x: x.split('\\t'), bsid2gene))\n",
    "bsid2gene = pd.DataFrame(bsid2gene)\n",
    "bsid2gene.columns = ['bsid','geneid','score']\n",
    "print('Merging bsid2info with bsid2gene...')\n",
    "bsid2gene_human_mouse = bsid2info.merge(bsid2gene,on='bsid',how='inner')\n",
    "bsid2gene_human_mouse.ix[:,[0,1,3,6,8]].to_csv('./Ontology_Info/bsid2info.txt',sep = '\\t',index = False)\n",
    "print('Downloaded biosystems_gene.gz, extracted human and mouse pathways, and saved as bsid2info.txt')"
   ]
  },
  {
   "cell_type": "code",
   "execution_count": null,
   "metadata": {
    "collapsed": true
   },
   "outputs": [],
   "source": [
    "# # Mouse Pheontype Get mouse phenotype data\n",
    "# mp_obo_url = 'http://www.informatics.jax.org/downloads/reports/MPheno_OBO.ontology'\n",
    "# mp_g2m_url = 'http://www.informatics.jax.org/downloads/reports/MGI_PhenoGenoMP.rpt'\n",
    "# for i in [mp_obo_url,mp_g2m_url]:\n",
    "#     file_content = requests.get(i).text\n",
    "#     filename = i.split('/')[-1]\n",
    "#     with open(''.join(['./Ontology_Info/',filename]),'wb') as f:\n",
    "#         file_content = file_content.encode('utf-8')\n",
    "#         f.write(file_content)\n",
    "#     print('Downloaded ' + filename)"
   ]
  },
  {
   "cell_type": "code",
   "execution_count": null,
   "metadata": {
    "collapsed": true
   },
   "outputs": [],
   "source": [
    "# This part of codes is used to process MP, but it is now probmatic, and need to be fixed later.\n",
    "# TODO::\n",
    "# parse MPheno_OBO\n",
    "# parsed_MP = pd.DataFrame(columns = ['name'])\n",
    "# with open('./Ontology_Info/MPheno_OBO.ontology','rb') as f:\n",
    "#     fdata = f.readlines()\n",
    "# fdata = [x.strip().decode() for x in fdata]\n",
    "# for idx in range(len(fdata)):\n",
    "#     if ('id:' in fdata[idx]) and ('alt id:' not in fdata[idx]):\n",
    "#         if 'name: ' in fdata[idx+1]:\n",
    "#             mp_name = fdata[idx+1].replace('name: ','')\n",
    "#             mp_id = fdata[idx].replace('id: ','')\n",
    "#             parsed_MP.ix[mp_id,0] = mp_name\n",
    "            \n",
    "# # Parse MGI_PhenoGenoMP into a MP to MGI table\n",
    "# mgi2entrez = pd.read_table('./Ontology_Info/MGI2H_entrez.txt',index_col=0)\n",
    "# gene2mp = pd.read_table('./Ontology_Info/MGI_PhenoGenoMP.rpt',index_col = -1,header=None)\n",
    "# gene2mp = pd.DataFrame(gene2mp.ix[:,3])\n",
    "# gene2mp.columns = ['MP_id']\n",
    "# gene2mp['MGI'] = gene2mp.index\n",
    "# gene2mp = gene2mp.groupby('MP_id').agg(lambda x: ','.join(x))\n",
    "# gene2mp_unstacked = pd.DataFrame(columns=['MGI_id'])\n",
    "# for idx in gene2mp.index:\n",
    "#     mgi_ids = gene2mp.ix[idx,0].split(',')\n",
    "#     tmp_df = pd.DataFrame(mgi_ids,index = [idx]*len(mgi_ids),columns=gene2mp_unstacked.columns)\n",
    "#     gene2mp_unstacked = gene2mp_unstacked.append(tmp_df)\n",
    "# Hgene2mp = gene2mp_unstacked.merge(mgi2entrez,left_on='MGI_id',right_index=True)\n",
    "# Hgene2mp['MP'] = Hgene2mp.index\n",
    "# Hgene2mp.set_index('Human homologue entrez',inplace = True)"
   ]
  },
  {
   "cell_type": "code",
   "execution_count": null,
   "metadata": {},
   "outputs": [],
   "source": [
    "# getting toppgene libraries and save locally\n",
    "for lib in ['GeneOntologyBiologicalProcess', 'GeneOntologyCellularComponent','MousePheno']:\n",
    "    data = requests.post(\"https://toppgene.cchmc.org/table.jsp\", data={\"category\":lib})\n",
    "    with open(''.join(['./Ontology_Info/',lib,'.txt']), 'w') as f:\n",
    "        f.write(data.text)\n",
    "# use toppgene's MP library instead\n",
    "gene2go = pd.DataFrame()\n",
    "for lib in ['GeneOntologyBiologicalProcess', 'GeneOntologyCellularComponent','MousePheno']:\n",
    "    tmp = pd.read_table(''.join(['./Ontology_Info/',lib,'.txt']),index_col = 0)\n",
    "    tmp = tmp.ix[:,[1,3,2]]\n",
    "    tmp.columns = ['Term_id','Term_category','Term_name']\n",
    "    if 'Process' in lib:\n",
    "        tmp['Term_category'] = 'BP'\n",
    "    elif 'Component' in lib:\n",
    "        tmp['Term_category'] = 'CC'\n",
    "    elif 'MousePheno' in lib:\n",
    "        tmp['Term_category'] = 'MP'               \n",
    "    gene2go = gene2go.append(tmp)\n",
    "# compile gene to term library of GOBP,BOCC, GOMF, Pathway and MP. and term id to term name file\n",
    "# read gene2go and pathways into a dataframe\n",
    "pathways = pd.read_table('./Ontology_Info/bsid2info.txt',index_col = 4)\n",
    "gene2pathwayid = pathways[pathways['NCBI taxid'] == 9606][['bsid','pathway_name']]\n",
    "gene2pathwayid['Category'] = 'Pathway'\n",
    "gene2pathwayid = gene2pathwayid[['bsid','Category','pathway_name']]\n",
    "gene2pathwayid.columns = ['Term_id','Term_category','Term_name']\n",
    "gene2term = pd.concat([gene2go,gene2pathwayid])\n",
    "gene2term.ix[:,:2].to_csv('./Ontology_Info/Gene2Term.txt',sep = '\\t')\n",
    "termid2termname = gene2term.drop_duplicates().set_index('Term_id').ix[:,1]\n",
    "termid2termname.to_csv('./Ontology_Info/TermID2TermName.txt',sep = '\\t')"
   ]
  },
  {
   "cell_type": "code",
   "execution_count": null,
   "metadata": {},
   "outputs": [],
   "source": [
    "# Get a gene symbole conversion file with human symbol, entrez, mouse symbol, entrez and ensemble id\n",
    "# actuall address ftp://ftp.ebi.ac.uk/pub/databases/genenames/new/tsv/hgnc_complete_set.txt\n",
    "ftp = FTP('ftp.ebi.ac.uk')   # connect to host, default port\n",
    "ftp.login()               # user anonymous, passwd anonymous@\n",
    "ftp.cwd('./pub/databases/genenames/new/tsv/') # move to target directory\n",
    "ftp.retrbinary('RETR hgnc_complete_set.txt', open('./Ontology_Info/HGNC_complete.txt', 'wb').write)\n",
    "print('Downloaded HGNC_complete.txt from HGNC')\n",
    "with open('./Ontology_Info/HGNC_complete.txt','rb') as f:\n",
    "    data = f.read()\n",
    "data = data.decode('ascii','ignore')\n",
    "data = data.split('\\n')\n",
    "data = list(map(lambda x: x.split('\\t'), data))\n",
    "df_data = pd.DataFrame(data)\n",
    "df_data.columns = df_data.ix[0,:]\n",
    "df_data.set_index('symbol',inplace = True)\n",
    "hgnc2mgi = df_data.ix[1:,['hgnc_id','entrez_id','mgd_id','ensembl_gene_id']]\n",
    "hgnc2mgi['h_symbol'] = hgnc2mgi.index\n",
    "hgnc2mgi.columns = ['hgnc_id','h_entrez_id','mgd_id','h_ensembl_gene_id','h_symbol']\n",
    "# down load MGI_id to \n",
    "mgi2entrez = requests.get('http://www.informatics.jax.org/downloads/reports/MGI_EntrezGene.rpt')\n",
    "stringdata = StringIO(mgi2entrez.text)\n",
    "mgi2entrez = pd.read_table(stringdata, header=None, index_col = 0,dtype = str)\n",
    "mgi2entrez = mgi2entrez.iloc[:,[0,7]]\n",
    "mgi2entrez.columns = ['mouse_symbol','m_entrez_id']\n",
    "hgnc2mgi = hgnc2mgi.merge(mgi2entrez,left_on='mgd_id',right_index=True,how='outer')\n",
    "hgnc2mgi.to_csv('./ontology_info/Master Gene Conversion Table.csv')\n",
    "print('Downloaded MGI_EntrezGene.rpt from MGI')\n",
    "print('Gene symbol conversion complete and saved as ./ontology_info/Master Gene Conversion Table.csv')"
   ]
  }
 ],
 "metadata": {
  "kernelspec": {
   "display_name": "Python 3",
   "language": "python",
   "name": "python3"
  },
  "language_info": {
   "codemirror_mode": {
    "name": "ipython",
    "version": 3
   },
   "file_extension": ".py",
   "mimetype": "text/x-python",
   "name": "python",
   "nbconvert_exporter": "python",
   "pygments_lexer": "ipython3",
   "version": "3.6.1"
  }
 },
 "nbformat": 4,
 "nbformat_minor": 2
}
