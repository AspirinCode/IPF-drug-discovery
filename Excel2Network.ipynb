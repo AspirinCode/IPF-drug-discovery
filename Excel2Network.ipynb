{
 "cells": [
  {
   "cell_type": "code",
   "execution_count": 1,
   "metadata": {
    "collapsed": true
   },
   "outputs": [],
   "source": [
    "import pandas as pd\n",
    "import os\n",
    "from collections import Counter"
   ]
  },
  {
   "cell_type": "code",
   "execution_count": 10,
   "metadata": {
    "collapsed": true
   },
   "outputs": [],
   "source": [
    "os.chdir('E:\\Box Sync\\Jake-Jegga\\IPF Drug Discovery\\Results')\n",
    "df = pd.read_excel('./Combined report from 6 IPF mocroarry queries.xlsx',index_col = 0,sheetname=1)\n",
    "df = df[df['Significant'] ==1]\n",
    "df = df.ix[:,'target':]\n",
    "df.fillna('',inplace=True)\n",
    "df[df==0] = ''\n",
    "\n",
    "net = pd.DataFrame(columns = ['Target','Source_attr','Target_Attr'])\n",
    "for i in range(df.shape[0]):\n",
    "    drug = df.index[i]\n",
    "    target_list = df.ix[i,0].split(', ')\n",
    "    moa_list = list(set(df.ix[i,1].split(', ') + df.ix[i,2].split(', ')))\n",
    "    drug_class = df.ix[i,3]\n",
    "    drug_phase = df.ix[i,6]\n",
    "    for target in target_list:\n",
    "        net = net.append(pd.DataFrame({'Target':target,'Source_attr':drug_phase,'Target_Attr':'Gene'},index = [drug]))\n",
    "    for moa in moa_list:\n",
    "        net = net.append(pd.DataFrame({'Target':moa,'Source_attr':drug_phase,'Target_Attr':'MOA'},index = [drug]))"
   ]
  }
 ],
 "metadata": {
  "kernelspec": {
   "display_name": "Python 3",
   "language": "python",
   "name": "python3"
  },
  "language_info": {
   "codemirror_mode": {
    "name": "ipython",
    "version": 3
   },
   "file_extension": ".py",
   "mimetype": "text/x-python",
   "name": "python",
   "nbconvert_exporter": "python",
   "pygments_lexer": "ipython3",
   "version": "3.6.1"
  }
 },
 "nbformat": 4,
 "nbformat_minor": 2
}
